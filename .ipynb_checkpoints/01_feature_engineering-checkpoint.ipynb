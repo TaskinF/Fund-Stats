{
 "cells": [
  {
   "cell_type": "markdown",
   "id": "949835b6-3217-4736-b0e4-1d993f00efbb",
   "metadata": {},
   "source": [
    "# Feature Engineering for Forecasting"
   ]
  },
  {
   "cell_type": "code",
   "execution_count": 1,
   "id": "4b136086-506a-4ed3-9d6d-abc75158aced",
   "metadata": {},
   "outputs": [],
   "source": [
    "import pandas as pd\n",
    "import numpy as np\n",
    "import matplotlib.pyplot as plt\n",
    "import seaborn as sns"
   ]
  },
  {
   "cell_type": "code",
   "execution_count": 29,
   "id": "8cdc4623-6a49-4133-a5e5-36fa03f843d9",
   "metadata": {},
   "outputs": [],
   "source": [
    "df = pd.read_csv(r\"C:\\Users\\furka\\JupyterNotebookProjects\\Fund_Stat\\Fund-Stats\\tefas_funds_data.csv\")"
   ]
  },
  {
   "cell_type": "code",
   "execution_count": 30,
   "id": "9bb60b38-c591-40e4-858c-0d273278bab0",
   "metadata": {},
   "outputs": [],
   "source": [
    "fund_codes = [\"KPC\", \"HKH\", \"KLU\", \"KZL\", \"CPU\", \"KUT\"]"
   ]
  },
  {
   "cell_type": "code",
   "execution_count": 31,
   "id": "cbf74612-f8a8-4e98-9983-31e3197b9f7f",
   "metadata": {},
   "outputs": [],
   "source": [
    "# Convert to datetime format\n",
    "df['date'] = pd.to_datetime(df['date'])"
   ]
  },
  {
   "cell_type": "code",
   "execution_count": 5,
   "id": "1d461b91-e5f4-4b92-9579-d02959208bb2",
   "metadata": {},
   "outputs": [],
   "source": [
    "fund_codes = [\"KPC\", \"HKH\", \"KLU\", \"KZL\", \"CPU\", \"KUT\"]"
   ]
  },
  {
   "cell_type": "code",
   "execution_count": 32,
   "id": "bd8c3df3-1323-4752-8b4f-f1e037142866",
   "metadata": {},
   "outputs": [
    {
     "data": {
      "text/html": [
       "<div>\n",
       "<style scoped>\n",
       "    .dataframe tbody tr th:only-of-type {\n",
       "        vertical-align: middle;\n",
       "    }\n",
       "\n",
       "    .dataframe tbody tr th {\n",
       "        vertical-align: top;\n",
       "    }\n",
       "\n",
       "    .dataframe thead th {\n",
       "        text-align: right;\n",
       "    }\n",
       "</style>\n",
       "<table border=\"1\" class=\"dataframe\">\n",
       "  <thead>\n",
       "    <tr style=\"text-align: right;\">\n",
       "      <th></th>\n",
       "      <th>date</th>\n",
       "      <th>code</th>\n",
       "      <th>title</th>\n",
       "      <th>price</th>\n",
       "      <th>market_cap</th>\n",
       "      <th>number_of_investors</th>\n",
       "      <th>number_of_shares</th>\n",
       "    </tr>\n",
       "  </thead>\n",
       "  <tbody>\n",
       "    <tr>\n",
       "      <th>0</th>\n",
       "      <td>2019-09-23</td>\n",
       "      <td>KZL</td>\n",
       "      <td>KUVEYT TÜRK ASSET MANAGEMENT GOLD PARTICIPATIO...</td>\n",
       "      <td>1.175174</td>\n",
       "      <td>8.308115e+06</td>\n",
       "      <td>298.0</td>\n",
       "      <td>7.069690e+06</td>\n",
       "    </tr>\n",
       "    <tr>\n",
       "      <th>1</th>\n",
       "      <td>2019-09-24</td>\n",
       "      <td>KZL</td>\n",
       "      <td>KUVEYT TÜRK ASSET MANAGEMENT GOLD PARTICIPATIO...</td>\n",
       "      <td>1.193278</td>\n",
       "      <td>8.495458e+06</td>\n",
       "      <td>295.0</td>\n",
       "      <td>7.119429e+06</td>\n",
       "    </tr>\n",
       "    <tr>\n",
       "      <th>2</th>\n",
       "      <td>2019-09-25</td>\n",
       "      <td>KZL</td>\n",
       "      <td>KUVEYT TÜRK ASSET MANAGEMENT GOLD PARTICIPATIO...</td>\n",
       "      <td>1.185895</td>\n",
       "      <td>8.384649e+06</td>\n",
       "      <td>288.0</td>\n",
       "      <td>7.070313e+06</td>\n",
       "    </tr>\n",
       "    <tr>\n",
       "      <th>3</th>\n",
       "      <td>2019-09-26</td>\n",
       "      <td>KZL</td>\n",
       "      <td>KUVEYT TÜRK ASSET MANAGEMENT GOLD PARTICIPATIO...</td>\n",
       "      <td>1.194965</td>\n",
       "      <td>8.071311e+06</td>\n",
       "      <td>287.0</td>\n",
       "      <td>6.754434e+06</td>\n",
       "    </tr>\n",
       "    <tr>\n",
       "      <th>4</th>\n",
       "      <td>2019-09-27</td>\n",
       "      <td>KZL</td>\n",
       "      <td>KUVEYT TÜRK ASSET MANAGEMENT GOLD PARTICIPATIO...</td>\n",
       "      <td>1.181067</td>\n",
       "      <td>7.889600e+06</td>\n",
       "      <td>285.0</td>\n",
       "      <td>6.680062e+06</td>\n",
       "    </tr>\n",
       "    <tr>\n",
       "      <th>...</th>\n",
       "      <td>...</td>\n",
       "      <td>...</td>\n",
       "      <td>...</td>\n",
       "      <td>...</td>\n",
       "      <td>...</td>\n",
       "      <td>...</td>\n",
       "      <td>...</td>\n",
       "    </tr>\n",
       "    <tr>\n",
       "      <th>4708</th>\n",
       "      <td>2024-09-02</td>\n",
       "      <td>KLU</td>\n",
       "      <td>KUVEYT TÜRK PORTFÖY PARA PİYASASI KATILIM (TL)...</td>\n",
       "      <td>2.282647</td>\n",
       "      <td>4.102847e+10</td>\n",
       "      <td>56230.0</td>\n",
       "      <td>1.797407e+10</td>\n",
       "    </tr>\n",
       "    <tr>\n",
       "      <th>4709</th>\n",
       "      <td>2024-09-02</td>\n",
       "      <td>HKH</td>\n",
       "      <td>HEDEF PORTFÖY KATILIM HİSSE SENEDİ (TL) FONU (...</td>\n",
       "      <td>6.045513</td>\n",
       "      <td>2.587774e+09</td>\n",
       "      <td>34374.0</td>\n",
       "      <td>4.280487e+08</td>\n",
       "    </tr>\n",
       "    <tr>\n",
       "      <th>4710</th>\n",
       "      <td>2024-09-02</td>\n",
       "      <td>CPU</td>\n",
       "      <td>AKTİF PORTFÖY TEKNOLOJİ KATILIM FONU</td>\n",
       "      <td>1.486352</td>\n",
       "      <td>7.326663e+08</td>\n",
       "      <td>21153.0</td>\n",
       "      <td>4.929293e+08</td>\n",
       "    </tr>\n",
       "    <tr>\n",
       "      <th>4711</th>\n",
       "      <td>2024-09-02</td>\n",
       "      <td>KUT</td>\n",
       "      <td>KUVEYT TÜRK PORTFÖY KIYMETLİ MADENLER KATILIM ...</td>\n",
       "      <td>4.613837</td>\n",
       "      <td>1.118915e+09</td>\n",
       "      <td>13860.0</td>\n",
       "      <td>2.425128e+08</td>\n",
       "    </tr>\n",
       "    <tr>\n",
       "      <th>4712</th>\n",
       "      <td>2024-09-02</td>\n",
       "      <td>KZL</td>\n",
       "      <td>KUVEYT TÜRK ASSET MANAGEMENT GOLD PARTICIPATIO...</td>\n",
       "      <td>11.622872</td>\n",
       "      <td>2.146175e+10</td>\n",
       "      <td>40543.0</td>\n",
       "      <td>1.846510e+09</td>\n",
       "    </tr>\n",
       "  </tbody>\n",
       "</table>\n",
       "<p>4713 rows × 7 columns</p>\n",
       "</div>"
      ],
      "text/plain": [
       "           date code                                              title  \\\n",
       "0    2019-09-23  KZL  KUVEYT TÜRK ASSET MANAGEMENT GOLD PARTICIPATIO...   \n",
       "1    2019-09-24  KZL  KUVEYT TÜRK ASSET MANAGEMENT GOLD PARTICIPATIO...   \n",
       "2    2019-09-25  KZL  KUVEYT TÜRK ASSET MANAGEMENT GOLD PARTICIPATIO...   \n",
       "3    2019-09-26  KZL  KUVEYT TÜRK ASSET MANAGEMENT GOLD PARTICIPATIO...   \n",
       "4    2019-09-27  KZL  KUVEYT TÜRK ASSET MANAGEMENT GOLD PARTICIPATIO...   \n",
       "...         ...  ...                                                ...   \n",
       "4708 2024-09-02  KLU  KUVEYT TÜRK PORTFÖY PARA PİYASASI KATILIM (TL)...   \n",
       "4709 2024-09-02  HKH  HEDEF PORTFÖY KATILIM HİSSE SENEDİ (TL) FONU (...   \n",
       "4710 2024-09-02  CPU               AKTİF PORTFÖY TEKNOLOJİ KATILIM FONU   \n",
       "4711 2024-09-02  KUT  KUVEYT TÜRK PORTFÖY KIYMETLİ MADENLER KATILIM ...   \n",
       "4712 2024-09-02  KZL  KUVEYT TÜRK ASSET MANAGEMENT GOLD PARTICIPATIO...   \n",
       "\n",
       "          price    market_cap  number_of_investors  number_of_shares  \n",
       "0      1.175174  8.308115e+06                298.0      7.069690e+06  \n",
       "1      1.193278  8.495458e+06                295.0      7.119429e+06  \n",
       "2      1.185895  8.384649e+06                288.0      7.070313e+06  \n",
       "3      1.194965  8.071311e+06                287.0      6.754434e+06  \n",
       "4      1.181067  7.889600e+06                285.0      6.680062e+06  \n",
       "...         ...           ...                  ...               ...  \n",
       "4708   2.282647  4.102847e+10              56230.0      1.797407e+10  \n",
       "4709   6.045513  2.587774e+09              34374.0      4.280487e+08  \n",
       "4710   1.486352  7.326663e+08              21153.0      4.929293e+08  \n",
       "4711   4.613837  1.118915e+09              13860.0      2.425128e+08  \n",
       "4712  11.622872  2.146175e+10              40543.0      1.846510e+09  \n",
       "\n",
       "[4713 rows x 7 columns]"
      ]
     },
     "execution_count": 32,
     "metadata": {},
     "output_type": "execute_result"
    }
   ],
   "source": [
    "df"
   ]
  },
  {
   "cell_type": "code",
   "execution_count": 33,
   "id": "e47cc7c2-2472-4d83-8d68-c30678da4a90",
   "metadata": {},
   "outputs": [
    {
     "name": "stdout",
     "output_type": "stream",
     "text": [
      "date                   0\n",
      "code                   0\n",
      "title                  0\n",
      "price                  0\n",
      "market_cap             0\n",
      "number_of_investors    0\n",
      "number_of_shares       0\n",
      "dtype: int64\n"
     ]
    }
   ],
   "source": [
    "print(df.isnull().sum())"
   ]
  },
  {
   "cell_type": "markdown",
   "id": "258b57c5-87ac-4d3e-843d-c1ba31dbf3f0",
   "metadata": {},
   "source": [
    "## Seasonality"
   ]
  },
  {
   "cell_type": "markdown",
   "id": "b948f383-c018-4ecc-b5d8-2844fcadbcf1",
   "metadata": {},
   "source": [
    "    -> Weekly seasonality"
   ]
  },
  {
   "cell_type": "code",
   "execution_count": 34,
   "id": "440efb6a-ce92-4d34-8f6c-ea6cf9247873",
   "metadata": {},
   "outputs": [],
   "source": [
    "df['price'] = pd.to_numeric(df['price'], errors='coerce')"
   ]
  },
  {
   "cell_type": "code",
   "execution_count": 35,
   "id": "bae4905f-3a7a-4776-a149-d61a9a658aa7",
   "metadata": {},
   "outputs": [],
   "source": [
    "df = df.dropna(subset=['price'])"
   ]
  },
  {
   "cell_type": "code",
   "execution_count": 36,
   "id": "d160ecb8-de76-4b1d-a19d-60f1fe9c0246",
   "metadata": {},
   "outputs": [],
   "source": [
    "df['year'] = df['date'].dt.year\n",
    "df['month'] = df['date'].dt.month\n",
    "df['day_of_week'] = df['date'].dt.dayofweek"
   ]
  }
 ],
 "metadata": {
  "kernelspec": {
   "display_name": "Python 3 (ipykernel)",
   "language": "python",
   "name": "python3"
  },
  "language_info": {
   "codemirror_mode": {
    "name": "ipython",
    "version": 3
   },
   "file_extension": ".py",
   "mimetype": "text/x-python",
   "name": "python",
   "nbconvert_exporter": "python",
   "pygments_lexer": "ipython3",
   "version": "3.11.6"
  }
 },
 "nbformat": 4,
 "nbformat_minor": 5
}
